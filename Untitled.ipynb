{
 "cells": [
  {
   "cell_type": "code",
   "execution_count": 2,
   "id": "4ea615fb",
   "metadata": {},
   "outputs": [
    {
     "name": "stdout",
     "output_type": "stream",
     "text": [
      "Requirement already satisfied: qiskit in d:\\python_setup\\lib\\site-packages (0.45.0)\n",
      "Requirement already satisfied: qiskit-terra==0.45.0 in d:\\python_setup\\lib\\site-packages (from qiskit) (0.45.0)\n",
      "Requirement already satisfied: rustworkx>=0.13.0 in d:\\python_setup\\lib\\site-packages (from qiskit-terra==0.45.0->qiskit) (0.13.2)\n",
      "Requirement already satisfied: numpy<2,>=1.17 in d:\\python_setup\\lib\\site-packages (from qiskit-terra==0.45.0->qiskit) (1.24.3)\n",
      "Requirement already satisfied: ply>=3.10 in d:\\python_setup\\lib\\site-packages (from qiskit-terra==0.45.0->qiskit) (3.11)\n",
      "Requirement already satisfied: psutil>=5 in c:\\users\\biswarup dutta\\appdata\\roaming\\python\\python311\\site-packages (from qiskit-terra==0.45.0->qiskit) (5.9.5)\n",
      "Requirement already satisfied: scipy>=1.5 in d:\\python_setup\\lib\\site-packages (from qiskit-terra==0.45.0->qiskit) (1.11.1)\n",
      "Requirement already satisfied: sympy>=1.3 in d:\\python_setup\\lib\\site-packages (from qiskit-terra==0.45.0->qiskit) (1.12)\n",
      "Requirement already satisfied: dill>=0.3 in d:\\python_setup\\lib\\site-packages (from qiskit-terra==0.45.0->qiskit) (0.3.7)\n",
      "Requirement already satisfied: python-dateutil>=2.8.0 in c:\\users\\biswarup dutta\\appdata\\roaming\\python\\python311\\site-packages (from qiskit-terra==0.45.0->qiskit) (2.8.2)\n",
      "Requirement already satisfied: stevedore>=3.0.0 in d:\\python_setup\\lib\\site-packages (from qiskit-terra==0.45.0->qiskit) (5.1.0)\n",
      "Requirement already satisfied: six>=1.5 in c:\\users\\biswarup dutta\\appdata\\roaming\\python\\python311\\site-packages (from python-dateutil>=2.8.0->qiskit-terra==0.45.0->qiskit) (1.16.0)\n",
      "Requirement already satisfied: pbr!=2.1.0,>=2.0.0 in d:\\python_setup\\lib\\site-packages (from stevedore>=3.0.0->qiskit-terra==0.45.0->qiskit) (6.0.0)\n",
      "Requirement already satisfied: mpmath>=0.19 in d:\\python_setup\\lib\\site-packages (from sympy>=1.3->qiskit-terra==0.45.0->qiskit) (1.3.0)\n"
     ]
    }
   ],
   "source": [
    "!pip install qiskit"
   ]
  },
  {
   "cell_type": "code",
   "execution_count": 3,
   "id": "5737204c",
   "metadata": {},
   "outputs": [
    {
     "ename": "ModuleNotFoundError",
     "evalue": "No module named 'qiskit'",
     "output_type": "error",
     "traceback": [
      "\u001b[1;31m---------------------------------------------------------------------------\u001b[0m",
      "\u001b[1;31mModuleNotFoundError\u001b[0m                       Traceback (most recent call last)",
      "Cell \u001b[1;32mIn[3], line 1\u001b[0m\n\u001b[1;32m----> 1\u001b[0m \u001b[38;5;28;01mimport\u001b[39;00m \u001b[38;5;21;01mqiskit\u001b[39;00m\n",
      "\u001b[1;31mModuleNotFoundError\u001b[0m: No module named 'qiskit'"
     ]
    }
   ],
   "source": [
    "import qiskit"
   ]
  },
  {
   "cell_type": "code",
   "execution_count": null,
   "id": "5a552d69",
   "metadata": {},
   "outputs": [],
   "source": []
  }
 ],
 "metadata": {
  "kernelspec": {
   "display_name": "Python 3 (ipykernel)",
   "language": "python",
   "name": "python3"
  },
  "language_info": {
   "codemirror_mode": {
    "name": "ipython",
    "version": 3
   },
   "file_extension": ".py",
   "mimetype": "text/x-python",
   "name": "python",
   "nbconvert_exporter": "python",
   "pygments_lexer": "ipython3",
   "version": "3.10.9"
  }
 },
 "nbformat": 4,
 "nbformat_minor": 5
}
